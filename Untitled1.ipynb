{
 "cells": [
  {
   "cell_type": "code",
   "execution_count": 1,
   "metadata": {},
   "outputs": [
    {
     "name": "stderr",
     "output_type": "stream",
     "text": [
      "/home/jupyterlab/conda/envs/python/lib/python3.6/site-packages/IPython/core/interactiveshell.py:3072: DtypeWarning: Columns (33) have mixed types.Specify dtype option on import or set low_memory=False.\n",
      "  interactivity=interactivity, compiler=compiler, result=result)\n"
     ]
    },
    {
     "data": {
      "text/html": [
       "<div>\n",
       "<style scoped>\n",
       "    .dataframe tbody tr th:only-of-type {\n",
       "        vertical-align: middle;\n",
       "    }\n",
       "\n",
       "    .dataframe tbody tr th {\n",
       "        vertical-align: top;\n",
       "    }\n",
       "\n",
       "    .dataframe thead th {\n",
       "        text-align: right;\n",
       "    }\n",
       "</style>\n",
       "<table border=\"1\" class=\"dataframe\">\n",
       "  <thead>\n",
       "    <tr style=\"text-align: right;\">\n",
       "      <th></th>\n",
       "      <th>SEVERITYCODE</th>\n",
       "      <th>X</th>\n",
       "      <th>Y</th>\n",
       "      <th>OBJECTID</th>\n",
       "      <th>INCKEY</th>\n",
       "      <th>COLDETKEY</th>\n",
       "      <th>REPORTNO</th>\n",
       "      <th>STATUS</th>\n",
       "      <th>ADDRTYPE</th>\n",
       "      <th>INTKEY</th>\n",
       "      <th>...</th>\n",
       "      <th>ROADCOND</th>\n",
       "      <th>LIGHTCOND</th>\n",
       "      <th>PEDROWNOTGRNT</th>\n",
       "      <th>SDOTCOLNUM</th>\n",
       "      <th>SPEEDING</th>\n",
       "      <th>ST_COLCODE</th>\n",
       "      <th>ST_COLDESC</th>\n",
       "      <th>SEGLANEKEY</th>\n",
       "      <th>CROSSWALKKEY</th>\n",
       "      <th>HITPARKEDCAR</th>\n",
       "    </tr>\n",
       "  </thead>\n",
       "  <tbody>\n",
       "    <tr>\n",
       "      <th>0</th>\n",
       "      <td>2</td>\n",
       "      <td>-122.323148</td>\n",
       "      <td>47.703140</td>\n",
       "      <td>1</td>\n",
       "      <td>1307</td>\n",
       "      <td>1307</td>\n",
       "      <td>3502005</td>\n",
       "      <td>Matched</td>\n",
       "      <td>Intersection</td>\n",
       "      <td>37475.0</td>\n",
       "      <td>...</td>\n",
       "      <td>Wet</td>\n",
       "      <td>Daylight</td>\n",
       "      <td>NaN</td>\n",
       "      <td>NaN</td>\n",
       "      <td>NaN</td>\n",
       "      <td>10</td>\n",
       "      <td>Entering at angle</td>\n",
       "      <td>0</td>\n",
       "      <td>0</td>\n",
       "      <td>N</td>\n",
       "    </tr>\n",
       "    <tr>\n",
       "      <th>1</th>\n",
       "      <td>1</td>\n",
       "      <td>-122.347294</td>\n",
       "      <td>47.647172</td>\n",
       "      <td>2</td>\n",
       "      <td>52200</td>\n",
       "      <td>52200</td>\n",
       "      <td>2607959</td>\n",
       "      <td>Matched</td>\n",
       "      <td>Block</td>\n",
       "      <td>NaN</td>\n",
       "      <td>...</td>\n",
       "      <td>Wet</td>\n",
       "      <td>Dark - Street Lights On</td>\n",
       "      <td>NaN</td>\n",
       "      <td>6354039.0</td>\n",
       "      <td>NaN</td>\n",
       "      <td>11</td>\n",
       "      <td>From same direction - both going straight - bo...</td>\n",
       "      <td>0</td>\n",
       "      <td>0</td>\n",
       "      <td>N</td>\n",
       "    </tr>\n",
       "    <tr>\n",
       "      <th>2</th>\n",
       "      <td>1</td>\n",
       "      <td>-122.334540</td>\n",
       "      <td>47.607871</td>\n",
       "      <td>3</td>\n",
       "      <td>26700</td>\n",
       "      <td>26700</td>\n",
       "      <td>1482393</td>\n",
       "      <td>Matched</td>\n",
       "      <td>Block</td>\n",
       "      <td>NaN</td>\n",
       "      <td>...</td>\n",
       "      <td>Dry</td>\n",
       "      <td>Daylight</td>\n",
       "      <td>NaN</td>\n",
       "      <td>4323031.0</td>\n",
       "      <td>NaN</td>\n",
       "      <td>32</td>\n",
       "      <td>One parked--one moving</td>\n",
       "      <td>0</td>\n",
       "      <td>0</td>\n",
       "      <td>N</td>\n",
       "    </tr>\n",
       "    <tr>\n",
       "      <th>3</th>\n",
       "      <td>1</td>\n",
       "      <td>-122.334803</td>\n",
       "      <td>47.604803</td>\n",
       "      <td>4</td>\n",
       "      <td>1144</td>\n",
       "      <td>1144</td>\n",
       "      <td>3503937</td>\n",
       "      <td>Matched</td>\n",
       "      <td>Block</td>\n",
       "      <td>NaN</td>\n",
       "      <td>...</td>\n",
       "      <td>Dry</td>\n",
       "      <td>Daylight</td>\n",
       "      <td>NaN</td>\n",
       "      <td>NaN</td>\n",
       "      <td>NaN</td>\n",
       "      <td>23</td>\n",
       "      <td>From same direction - all others</td>\n",
       "      <td>0</td>\n",
       "      <td>0</td>\n",
       "      <td>N</td>\n",
       "    </tr>\n",
       "    <tr>\n",
       "      <th>4</th>\n",
       "      <td>2</td>\n",
       "      <td>-122.306426</td>\n",
       "      <td>47.545739</td>\n",
       "      <td>5</td>\n",
       "      <td>17700</td>\n",
       "      <td>17700</td>\n",
       "      <td>1807429</td>\n",
       "      <td>Matched</td>\n",
       "      <td>Intersection</td>\n",
       "      <td>34387.0</td>\n",
       "      <td>...</td>\n",
       "      <td>Wet</td>\n",
       "      <td>Daylight</td>\n",
       "      <td>NaN</td>\n",
       "      <td>4028032.0</td>\n",
       "      <td>NaN</td>\n",
       "      <td>10</td>\n",
       "      <td>Entering at angle</td>\n",
       "      <td>0</td>\n",
       "      <td>0</td>\n",
       "      <td>N</td>\n",
       "    </tr>\n",
       "  </tbody>\n",
       "</table>\n",
       "<p>5 rows × 38 columns</p>\n",
       "</div>"
      ],
      "text/plain": [
       "   SEVERITYCODE           X          Y  OBJECTID  INCKEY  COLDETKEY REPORTNO  \\\n",
       "0             2 -122.323148  47.703140         1    1307       1307  3502005   \n",
       "1             1 -122.347294  47.647172         2   52200      52200  2607959   \n",
       "2             1 -122.334540  47.607871         3   26700      26700  1482393   \n",
       "3             1 -122.334803  47.604803         4    1144       1144  3503937   \n",
       "4             2 -122.306426  47.545739         5   17700      17700  1807429   \n",
       "\n",
       "    STATUS      ADDRTYPE   INTKEY  ... ROADCOND                LIGHTCOND  \\\n",
       "0  Matched  Intersection  37475.0  ...      Wet                 Daylight   \n",
       "1  Matched         Block      NaN  ...      Wet  Dark - Street Lights On   \n",
       "2  Matched         Block      NaN  ...      Dry                 Daylight   \n",
       "3  Matched         Block      NaN  ...      Dry                 Daylight   \n",
       "4  Matched  Intersection  34387.0  ...      Wet                 Daylight   \n",
       "\n",
       "  PEDROWNOTGRNT  SDOTCOLNUM SPEEDING ST_COLCODE  \\\n",
       "0           NaN         NaN      NaN         10   \n",
       "1           NaN   6354039.0      NaN         11   \n",
       "2           NaN   4323031.0      NaN         32   \n",
       "3           NaN         NaN      NaN         23   \n",
       "4           NaN   4028032.0      NaN         10   \n",
       "\n",
       "                                          ST_COLDESC  SEGLANEKEY  \\\n",
       "0                                  Entering at angle           0   \n",
       "1  From same direction - both going straight - bo...           0   \n",
       "2                             One parked--one moving           0   \n",
       "3                   From same direction - all others           0   \n",
       "4                                  Entering at angle           0   \n",
       "\n",
       "   CROSSWALKKEY  HITPARKEDCAR  \n",
       "0             0             N  \n",
       "1             0             N  \n",
       "2             0             N  \n",
       "3             0             N  \n",
       "4             0             N  \n",
       "\n",
       "[5 rows x 38 columns]"
      ]
     },
     "execution_count": 1,
     "metadata": {},
     "output_type": "execute_result"
    }
   ],
   "source": [
    "import pandas as pd\n",
    "import numpy as np\n",
    "df = pd.read_csv('https://s3.us.cloud-object-storage.appdomain.cloud/cf-courses-data/CognitiveClass/DP0701EN/version-2/Data-Collisions.csv')\n",
    "df.head()\n",
    "###import the csv file and showwcase the first 5 rows"
   ]
  },
  {
   "cell_type": "code",
   "execution_count": 2,
   "metadata": {},
   "outputs": [
    {
     "name": "stdout",
     "output_type": "stream",
     "text": [
      "SEVERITYCODE\n",
      "1    136485\n",
      "2     58188\n",
      "dtype: int64\n"
     ]
    }
   ],
   "source": [
    "print(df.groupby('SEVERITYCODE').size()) ###let's see the balance of the dataset"
   ]
  },
  {
   "cell_type": "code",
   "execution_count": 3,
   "metadata": {},
   "outputs": [
    {
     "name": "stdout",
     "output_type": "stream",
     "text": [
      "<class 'pandas.core.frame.DataFrame'>\n",
      "RangeIndex: 194673 entries, 0 to 194672\n",
      "Data columns (total 38 columns):\n",
      " #   Column          Non-Null Count   Dtype  \n",
      "---  ------          --------------   -----  \n",
      " 0   SEVERITYCODE    194673 non-null  int64  \n",
      " 1   X               189339 non-null  float64\n",
      " 2   Y               189339 non-null  float64\n",
      " 3   OBJECTID        194673 non-null  int64  \n",
      " 4   INCKEY          194673 non-null  int64  \n",
      " 5   COLDETKEY       194673 non-null  int64  \n",
      " 6   REPORTNO        194673 non-null  object \n",
      " 7   STATUS          194673 non-null  object \n",
      " 8   ADDRTYPE        192747 non-null  object \n",
      " 9   INTKEY          65070 non-null   float64\n",
      " 10  LOCATION        191996 non-null  object \n",
      " 11  EXCEPTRSNCODE   84811 non-null   object \n",
      " 12  EXCEPTRSNDESC   5638 non-null    object \n",
      " 13  SEVERITYCODE.1  194673 non-null  int64  \n",
      " 14  SEVERITYDESC    194673 non-null  object \n",
      " 15  COLLISIONTYPE   189769 non-null  object \n",
      " 16  PERSONCOUNT     194673 non-null  int64  \n",
      " 17  PEDCOUNT        194673 non-null  int64  \n",
      " 18  PEDCYLCOUNT     194673 non-null  int64  \n",
      " 19  VEHCOUNT        194673 non-null  int64  \n",
      " 20  INCDATE         194673 non-null  object \n",
      " 21  INCDTTM         194673 non-null  object \n",
      " 22  JUNCTIONTYPE    188344 non-null  object \n",
      " 23  SDOT_COLCODE    194673 non-null  int64  \n",
      " 24  SDOT_COLDESC    194673 non-null  object \n",
      " 25  INATTENTIONIND  29805 non-null   object \n",
      " 26  UNDERINFL       189789 non-null  object \n",
      " 27  WEATHER         189592 non-null  object \n",
      " 28  ROADCOND        189661 non-null  object \n",
      " 29  LIGHTCOND       189503 non-null  object \n",
      " 30  PEDROWNOTGRNT   4667 non-null    object \n",
      " 31  SDOTCOLNUM      114936 non-null  float64\n",
      " 32  SPEEDING        9333 non-null    object \n",
      " 33  ST_COLCODE      194655 non-null  object \n",
      " 34  ST_COLDESC      189769 non-null  object \n",
      " 35  SEGLANEKEY      194673 non-null  int64  \n",
      " 36  CROSSWALKKEY    194673 non-null  int64  \n",
      " 37  HITPARKEDCAR    194673 non-null  object \n",
      "dtypes: float64(4), int64(12), object(22)\n",
      "memory usage: 56.4+ MB\n"
     ]
    }
   ],
   "source": [
    "df.info() ##to understand the type of the variables and to see how many missing values"
   ]
  },
  {
   "cell_type": "code",
   "execution_count": 4,
   "metadata": {},
   "outputs": [],
   "source": [
    "dff = df.drop([\"INTKEY\",\"EXCEPTRSNCODE\",\"EXCEPTRSNDESC\",\"INATTENTIONIND\",\"PEDROWNOTGRNT\",\"SDOTCOLNUM\",\"SPEEDING\"], axis=1) #drop the columns with a lot of NaN, more than half"
   ]
  },
  {
   "cell_type": "code",
   "execution_count": 5,
   "metadata": {},
   "outputs": [
    {
     "name": "stdout",
     "output_type": "stream",
     "text": [
      "(180067, 31)\n",
      "<class 'pandas.core.frame.DataFrame'>\n",
      "Int64Index: 180067 entries, 0 to 194672\n",
      "Data columns (total 31 columns):\n",
      " #   Column          Non-Null Count   Dtype  \n",
      "---  ------          --------------   -----  \n",
      " 0   SEVERITYCODE    180067 non-null  int64  \n",
      " 1   X               180067 non-null  float64\n",
      " 2   Y               180067 non-null  float64\n",
      " 3   OBJECTID        180067 non-null  int64  \n",
      " 4   INCKEY          180067 non-null  int64  \n",
      " 5   COLDETKEY       180067 non-null  int64  \n",
      " 6   REPORTNO        180067 non-null  object \n",
      " 7   STATUS          180067 non-null  object \n",
      " 8   ADDRTYPE        180067 non-null  object \n",
      " 9   LOCATION        180067 non-null  object \n",
      " 10  SEVERITYCODE.1  180067 non-null  int64  \n",
      " 11  SEVERITYDESC    180067 non-null  object \n",
      " 12  COLLISIONTYPE   180067 non-null  object \n",
      " 13  PERSONCOUNT     180067 non-null  int64  \n",
      " 14  PEDCOUNT        180067 non-null  int64  \n",
      " 15  PEDCYLCOUNT     180067 non-null  int64  \n",
      " 16  VEHCOUNT        180067 non-null  int64  \n",
      " 17  INCDATE         180067 non-null  object \n",
      " 18  INCDTTM         180067 non-null  object \n",
      " 19  JUNCTIONTYPE    180067 non-null  object \n",
      " 20  SDOT_COLCODE    180067 non-null  int64  \n",
      " 21  SDOT_COLDESC    180067 non-null  object \n",
      " 22  UNDERINFL       180067 non-null  object \n",
      " 23  WEATHER         180067 non-null  object \n",
      " 24  ROADCOND        180067 non-null  object \n",
      " 25  LIGHTCOND       180067 non-null  object \n",
      " 26  ST_COLCODE      180067 non-null  object \n",
      " 27  ST_COLDESC      180067 non-null  object \n",
      " 28  SEGLANEKEY      180067 non-null  int64  \n",
      " 29  CROSSWALKKEY    180067 non-null  int64  \n",
      " 30  HITPARKEDCAR    180067 non-null  object \n",
      "dtypes: float64(2), int64(12), object(17)\n",
      "memory usage: 44.0+ MB\n"
     ]
    }
   ],
   "source": [
    "DF = dff.dropna()\n",
    "print(DF.shape)\n",
    "DF.info()  ###dropmissing values"
   ]
  },
  {
   "cell_type": "code",
   "execution_count": 9,
   "metadata": {},
   "outputs": [
    {
     "data": {
      "text/html": [
       "<div>\n",
       "<style scoped>\n",
       "    .dataframe tbody tr th:only-of-type {\n",
       "        vertical-align: middle;\n",
       "    }\n",
       "\n",
       "    .dataframe tbody tr th {\n",
       "        vertical-align: top;\n",
       "    }\n",
       "\n",
       "    .dataframe thead th {\n",
       "        text-align: right;\n",
       "    }\n",
       "</style>\n",
       "<table border=\"1\" class=\"dataframe\">\n",
       "  <thead>\n",
       "    <tr style=\"text-align: right;\">\n",
       "      <th></th>\n",
       "      <th>SEVERITYCODE</th>\n",
       "      <th>PERSONCOUNT</th>\n",
       "      <th>PEDCYLCOUNT</th>\n",
       "      <th>VEHCOUNT</th>\n",
       "      <th>UNDERINFL</th>\n",
       "      <th>WEATHER</th>\n",
       "      <th>ROADCOND</th>\n",
       "      <th>LIGHTCOND</th>\n",
       "    </tr>\n",
       "  </thead>\n",
       "  <tbody>\n",
       "    <tr>\n",
       "      <th>0</th>\n",
       "      <td>2</td>\n",
       "      <td>2</td>\n",
       "      <td>0</td>\n",
       "      <td>2</td>\n",
       "      <td>N</td>\n",
       "      <td>Overcast</td>\n",
       "      <td>Wet</td>\n",
       "      <td>Daylight</td>\n",
       "    </tr>\n",
       "    <tr>\n",
       "      <th>1</th>\n",
       "      <td>1</td>\n",
       "      <td>2</td>\n",
       "      <td>0</td>\n",
       "      <td>2</td>\n",
       "      <td>0</td>\n",
       "      <td>Raining</td>\n",
       "      <td>Wet</td>\n",
       "      <td>Dark - Street Lights On</td>\n",
       "    </tr>\n",
       "    <tr>\n",
       "      <th>2</th>\n",
       "      <td>1</td>\n",
       "      <td>4</td>\n",
       "      <td>0</td>\n",
       "      <td>3</td>\n",
       "      <td>0</td>\n",
       "      <td>Overcast</td>\n",
       "      <td>Dry</td>\n",
       "      <td>Daylight</td>\n",
       "    </tr>\n",
       "    <tr>\n",
       "      <th>3</th>\n",
       "      <td>1</td>\n",
       "      <td>3</td>\n",
       "      <td>0</td>\n",
       "      <td>3</td>\n",
       "      <td>N</td>\n",
       "      <td>Clear</td>\n",
       "      <td>Dry</td>\n",
       "      <td>Daylight</td>\n",
       "    </tr>\n",
       "    <tr>\n",
       "      <th>4</th>\n",
       "      <td>2</td>\n",
       "      <td>2</td>\n",
       "      <td>0</td>\n",
       "      <td>2</td>\n",
       "      <td>0</td>\n",
       "      <td>Raining</td>\n",
       "      <td>Wet</td>\n",
       "      <td>Daylight</td>\n",
       "    </tr>\n",
       "  </tbody>\n",
       "</table>\n",
       "</div>"
      ],
      "text/plain": [
       "   SEVERITYCODE  PERSONCOUNT  PEDCYLCOUNT  VEHCOUNT UNDERINFL   WEATHER  \\\n",
       "0             2            2            0         2         N  Overcast   \n",
       "1             1            2            0         2         0   Raining   \n",
       "2             1            4            0         3         0  Overcast   \n",
       "3             1            3            0         3         N     Clear   \n",
       "4             2            2            0         2         0   Raining   \n",
       "\n",
       "  ROADCOND                LIGHTCOND  \n",
       "0      Wet                 Daylight  \n",
       "1      Wet  Dark - Street Lights On  \n",
       "2      Dry                 Daylight  \n",
       "3      Dry                 Daylight  \n",
       "4      Wet                 Daylight  "
      ]
     },
     "execution_count": 9,
     "metadata": {},
     "output_type": "execute_result"
    }
   ],
   "source": [
    "DF1 = DF[[\"SEVERITYCODE\",\"PERSONCOUNT\", \"PEDCYLCOUNT\", \"VEHCOUNT\", \"UNDERINFL\", \"WEATHER\", \"ROADCOND\", \"LIGHTCOND\"]]\n",
    "DF1.head() #keep those columns, these are the variables that should be used"
   ]
  },
  {
   "cell_type": "code",
   "execution_count": 10,
   "metadata": {},
   "outputs": [
    {
     "data": {
      "text/plain": [
       "(180067, 8)"
      ]
     },
     "execution_count": 10,
     "metadata": {},
     "output_type": "execute_result"
    }
   ],
   "source": [
    "DF1.shape"
   ]
  },
  {
   "cell_type": "code",
   "execution_count": 11,
   "metadata": {},
   "outputs": [],
   "source": [
    "df_maj = DF1[DF1.SEVERITYCODE==1]\n",
    "df_min = DF1[DF1.SEVERITYCODE==2]"
   ]
  },
  {
   "cell_type": "code",
   "execution_count": 12,
   "metadata": {},
   "outputs": [],
   "source": [
    "from sklearn.utils import resample  ###reduce the number of rows to speed up the algorithms keeping the same distribution of the target label\n",
    "df_majority_downsampled = resample(df_maj,\n",
    "                                   replace=False,\n",
    "                                   n_samples=20473, \n",
    "                                   random_state=41)"
   ]
  },
  {
   "cell_type": "code",
   "execution_count": 13,
   "metadata": {},
   "outputs": [],
   "source": [
    "from sklearn.utils import resample          ###reduce the number of rows to speed up the algorithms keeping the same distribution of the target label\n",
    "df_minority_downsampled = resample(df_min,\n",
    "                                   replace=False,\n",
    "                                   n_samples=8728, \n",
    "                                   random_state=41)"
   ]
  },
  {
   "cell_type": "code",
   "execution_count": 14,
   "metadata": {},
   "outputs": [
    {
     "data": {
      "text/plain": [
       "1    20473\n",
       "2     8728\n",
       "Name: SEVERITYCODE, dtype: int64"
      ]
     },
     "execution_count": 14,
     "metadata": {},
     "output_type": "execute_result"
    }
   ],
   "source": [
    "df_down = pd.concat([df_majority_downsampled, df_minority_downsampled])   ###check to see the number of rows and the values of the target var\n",
    "df_down.SEVERITYCODE.value_counts()"
   ]
  },
  {
   "cell_type": "code",
   "execution_count": 15,
   "metadata": {},
   "outputs": [
    {
     "data": {
      "text/html": [
       "<div>\n",
       "<style scoped>\n",
       "    .dataframe tbody tr th:only-of-type {\n",
       "        vertical-align: middle;\n",
       "    }\n",
       "\n",
       "    .dataframe tbody tr th {\n",
       "        vertical-align: top;\n",
       "    }\n",
       "\n",
       "    .dataframe thead th {\n",
       "        text-align: right;\n",
       "    }\n",
       "</style>\n",
       "<table border=\"1\" class=\"dataframe\">\n",
       "  <thead>\n",
       "    <tr style=\"text-align: right;\">\n",
       "      <th></th>\n",
       "      <th>SEVERITYCODE</th>\n",
       "      <th>PERSONCOUNT</th>\n",
       "      <th>PEDCYLCOUNT</th>\n",
       "      <th>VEHCOUNT</th>\n",
       "      <th>UNDERINFL</th>\n",
       "      <th>WEATHER</th>\n",
       "      <th>ROADCOND</th>\n",
       "      <th>LIGHTCOND</th>\n",
       "    </tr>\n",
       "  </thead>\n",
       "  <tbody>\n",
       "    <tr>\n",
       "      <th>179217</th>\n",
       "      <td>1</td>\n",
       "      <td>2</td>\n",
       "      <td>0</td>\n",
       "      <td>2</td>\n",
       "      <td>N</td>\n",
       "      <td>Raining</td>\n",
       "      <td>Wet</td>\n",
       "      <td>Dark - No Street Lights</td>\n",
       "    </tr>\n",
       "    <tr>\n",
       "      <th>139905</th>\n",
       "      <td>1</td>\n",
       "      <td>2</td>\n",
       "      <td>0</td>\n",
       "      <td>2</td>\n",
       "      <td>N</td>\n",
       "      <td>Clear</td>\n",
       "      <td>Dry</td>\n",
       "      <td>Daylight</td>\n",
       "    </tr>\n",
       "    <tr>\n",
       "      <th>32723</th>\n",
       "      <td>1</td>\n",
       "      <td>2</td>\n",
       "      <td>0</td>\n",
       "      <td>2</td>\n",
       "      <td>0</td>\n",
       "      <td>Overcast</td>\n",
       "      <td>Wet</td>\n",
       "      <td>Daylight</td>\n",
       "    </tr>\n",
       "    <tr>\n",
       "      <th>171914</th>\n",
       "      <td>1</td>\n",
       "      <td>4</td>\n",
       "      <td>0</td>\n",
       "      <td>2</td>\n",
       "      <td>N</td>\n",
       "      <td>Raining</td>\n",
       "      <td>Wet</td>\n",
       "      <td>Daylight</td>\n",
       "    </tr>\n",
       "    <tr>\n",
       "      <th>44382</th>\n",
       "      <td>1</td>\n",
       "      <td>2</td>\n",
       "      <td>0</td>\n",
       "      <td>2</td>\n",
       "      <td>0</td>\n",
       "      <td>Clear</td>\n",
       "      <td>Dry</td>\n",
       "      <td>Dark - Street Lights On</td>\n",
       "    </tr>\n",
       "  </tbody>\n",
       "</table>\n",
       "</div>"
      ],
      "text/plain": [
       "        SEVERITYCODE  PERSONCOUNT  PEDCYLCOUNT  VEHCOUNT UNDERINFL   WEATHER  \\\n",
       "179217             1            2            0         2         N   Raining   \n",
       "139905             1            2            0         2         N     Clear   \n",
       "32723              1            2            0         2         0  Overcast   \n",
       "171914             1            4            0         2         N   Raining   \n",
       "44382              1            2            0         2         0     Clear   \n",
       "\n",
       "       ROADCOND                LIGHTCOND  \n",
       "179217      Wet  Dark - No Street Lights  \n",
       "139905      Dry                 Daylight  \n",
       "32723       Wet                 Daylight  \n",
       "171914      Wet                 Daylight  \n",
       "44382       Dry  Dark - Street Lights On  "
      ]
     },
     "execution_count": 15,
     "metadata": {},
     "output_type": "execute_result"
    }
   ],
   "source": [
    "df_down.head()"
   ]
  },
  {
   "cell_type": "code",
   "execution_count": 16,
   "metadata": {},
   "outputs": [
    {
     "data": {
      "text/html": [
       "<div>\n",
       "<style scoped>\n",
       "    .dataframe tbody tr th:only-of-type {\n",
       "        vertical-align: middle;\n",
       "    }\n",
       "\n",
       "    .dataframe tbody tr th {\n",
       "        vertical-align: top;\n",
       "    }\n",
       "\n",
       "    .dataframe thead th {\n",
       "        text-align: right;\n",
       "    }\n",
       "</style>\n",
       "<table border=\"1\" class=\"dataframe\">\n",
       "  <thead>\n",
       "    <tr style=\"text-align: right;\">\n",
       "      <th></th>\n",
       "      <th>index</th>\n",
       "      <th>SEVERITYCODE</th>\n",
       "      <th>PERSONCOUNT</th>\n",
       "      <th>PEDCYLCOUNT</th>\n",
       "      <th>VEHCOUNT</th>\n",
       "      <th>UNDERINFL</th>\n",
       "      <th>WEATHER</th>\n",
       "      <th>ROADCOND</th>\n",
       "      <th>LIGHTCOND</th>\n",
       "    </tr>\n",
       "  </thead>\n",
       "  <tbody>\n",
       "    <tr>\n",
       "      <th>0</th>\n",
       "      <td>179217</td>\n",
       "      <td>1</td>\n",
       "      <td>2</td>\n",
       "      <td>0</td>\n",
       "      <td>2</td>\n",
       "      <td>N</td>\n",
       "      <td>Raining</td>\n",
       "      <td>Wet</td>\n",
       "      <td>Dark - No Street Lights</td>\n",
       "    </tr>\n",
       "    <tr>\n",
       "      <th>1</th>\n",
       "      <td>139905</td>\n",
       "      <td>1</td>\n",
       "      <td>2</td>\n",
       "      <td>0</td>\n",
       "      <td>2</td>\n",
       "      <td>N</td>\n",
       "      <td>Clear</td>\n",
       "      <td>Dry</td>\n",
       "      <td>Daylight</td>\n",
       "    </tr>\n",
       "    <tr>\n",
       "      <th>2</th>\n",
       "      <td>32723</td>\n",
       "      <td>1</td>\n",
       "      <td>2</td>\n",
       "      <td>0</td>\n",
       "      <td>2</td>\n",
       "      <td>0</td>\n",
       "      <td>Overcast</td>\n",
       "      <td>Wet</td>\n",
       "      <td>Daylight</td>\n",
       "    </tr>\n",
       "    <tr>\n",
       "      <th>3</th>\n",
       "      <td>171914</td>\n",
       "      <td>1</td>\n",
       "      <td>4</td>\n",
       "      <td>0</td>\n",
       "      <td>2</td>\n",
       "      <td>N</td>\n",
       "      <td>Raining</td>\n",
       "      <td>Wet</td>\n",
       "      <td>Daylight</td>\n",
       "    </tr>\n",
       "    <tr>\n",
       "      <th>4</th>\n",
       "      <td>44382</td>\n",
       "      <td>1</td>\n",
       "      <td>2</td>\n",
       "      <td>0</td>\n",
       "      <td>2</td>\n",
       "      <td>0</td>\n",
       "      <td>Clear</td>\n",
       "      <td>Dry</td>\n",
       "      <td>Dark - Street Lights On</td>\n",
       "    </tr>\n",
       "    <tr>\n",
       "      <th>...</th>\n",
       "      <td>...</td>\n",
       "      <td>...</td>\n",
       "      <td>...</td>\n",
       "      <td>...</td>\n",
       "      <td>...</td>\n",
       "      <td>...</td>\n",
       "      <td>...</td>\n",
       "      <td>...</td>\n",
       "      <td>...</td>\n",
       "    </tr>\n",
       "    <tr>\n",
       "      <th>29196</th>\n",
       "      <td>171767</td>\n",
       "      <td>2</td>\n",
       "      <td>2</td>\n",
       "      <td>0</td>\n",
       "      <td>2</td>\n",
       "      <td>N</td>\n",
       "      <td>Overcast</td>\n",
       "      <td>Dry</td>\n",
       "      <td>Dark - Street Lights On</td>\n",
       "    </tr>\n",
       "    <tr>\n",
       "      <th>29197</th>\n",
       "      <td>9438</td>\n",
       "      <td>2</td>\n",
       "      <td>2</td>\n",
       "      <td>0</td>\n",
       "      <td>2</td>\n",
       "      <td>0</td>\n",
       "      <td>Clear</td>\n",
       "      <td>Dry</td>\n",
       "      <td>Daylight</td>\n",
       "    </tr>\n",
       "    <tr>\n",
       "      <th>29198</th>\n",
       "      <td>147172</td>\n",
       "      <td>2</td>\n",
       "      <td>6</td>\n",
       "      <td>0</td>\n",
       "      <td>2</td>\n",
       "      <td>N</td>\n",
       "      <td>Clear</td>\n",
       "      <td>Dry</td>\n",
       "      <td>Daylight</td>\n",
       "    </tr>\n",
       "    <tr>\n",
       "      <th>29199</th>\n",
       "      <td>127557</td>\n",
       "      <td>2</td>\n",
       "      <td>1</td>\n",
       "      <td>0</td>\n",
       "      <td>1</td>\n",
       "      <td>N</td>\n",
       "      <td>Clear</td>\n",
       "      <td>Dry</td>\n",
       "      <td>Dark - Street Lights On</td>\n",
       "    </tr>\n",
       "    <tr>\n",
       "      <th>29200</th>\n",
       "      <td>103160</td>\n",
       "      <td>2</td>\n",
       "      <td>2</td>\n",
       "      <td>0</td>\n",
       "      <td>1</td>\n",
       "      <td>0</td>\n",
       "      <td>Clear</td>\n",
       "      <td>Dry</td>\n",
       "      <td>Dark - Street Lights On</td>\n",
       "    </tr>\n",
       "  </tbody>\n",
       "</table>\n",
       "<p>29201 rows × 9 columns</p>\n",
       "</div>"
      ],
      "text/plain": [
       "        index  SEVERITYCODE  PERSONCOUNT  PEDCYLCOUNT  VEHCOUNT UNDERINFL  \\\n",
       "0      179217             1            2            0         2         N   \n",
       "1      139905             1            2            0         2         N   \n",
       "2       32723             1            2            0         2         0   \n",
       "3      171914             1            4            0         2         N   \n",
       "4       44382             1            2            0         2         0   \n",
       "...       ...           ...          ...          ...       ...       ...   \n",
       "29196  171767             2            2            0         2         N   \n",
       "29197    9438             2            2            0         2         0   \n",
       "29198  147172             2            6            0         2         N   \n",
       "29199  127557             2            1            0         1         N   \n",
       "29200  103160             2            2            0         1         0   \n",
       "\n",
       "        WEATHER ROADCOND                LIGHTCOND  \n",
       "0       Raining      Wet  Dark - No Street Lights  \n",
       "1         Clear      Dry                 Daylight  \n",
       "2      Overcast      Wet                 Daylight  \n",
       "3       Raining      Wet                 Daylight  \n",
       "4         Clear      Dry  Dark - Street Lights On  \n",
       "...         ...      ...                      ...  \n",
       "29196  Overcast      Dry  Dark - Street Lights On  \n",
       "29197     Clear      Dry                 Daylight  \n",
       "29198     Clear      Dry                 Daylight  \n",
       "29199     Clear      Dry  Dark - Street Lights On  \n",
       "29200     Clear      Dry  Dark - Street Lights On  \n",
       "\n",
       "[29201 rows x 9 columns]"
      ]
     },
     "execution_count": 16,
     "metadata": {},
     "output_type": "execute_result"
    }
   ],
   "source": [
    "df_down.reset_index()"
   ]
  },
  {
   "cell_type": "code",
   "execution_count": 18,
   "metadata": {},
   "outputs": [
    {
     "data": {
      "text/plain": [
       "179217    1\n",
       "139905    1\n",
       "32723     1\n",
       "171914    1\n",
       "44382     1\n",
       "Name: SEVERITYCODE, dtype: int64"
      ]
     },
     "execution_count": 18,
     "metadata": {},
     "output_type": "execute_result"
    }
   ],
   "source": [
    "X1 = df_down.iloc[:,1:13]\n",
    "y1 = df_down.iloc[:,0]\n",
    "y1.head()         ####divide the variable into 2 set of data, one the one hand the target variable, on the other all the predictive variables"
   ]
  },
  {
   "cell_type": "code",
   "execution_count": 19,
   "metadata": {},
   "outputs": [
    {
     "data": {
      "text/html": [
       "<div>\n",
       "<style scoped>\n",
       "    .dataframe tbody tr th:only-of-type {\n",
       "        vertical-align: middle;\n",
       "    }\n",
       "\n",
       "    .dataframe tbody tr th {\n",
       "        vertical-align: top;\n",
       "    }\n",
       "\n",
       "    .dataframe thead th {\n",
       "        text-align: right;\n",
       "    }\n",
       "</style>\n",
       "<table border=\"1\" class=\"dataframe\">\n",
       "  <thead>\n",
       "    <tr style=\"text-align: right;\">\n",
       "      <th></th>\n",
       "      <th>PERSONCOUNT</th>\n",
       "      <th>PEDCYLCOUNT</th>\n",
       "      <th>VEHCOUNT</th>\n",
       "      <th>UNDERINFL</th>\n",
       "      <th>WEATHER</th>\n",
       "      <th>ROADCOND</th>\n",
       "      <th>LIGHTCOND</th>\n",
       "    </tr>\n",
       "  </thead>\n",
       "  <tbody>\n",
       "    <tr>\n",
       "      <th>179217</th>\n",
       "      <td>2</td>\n",
       "      <td>0</td>\n",
       "      <td>2</td>\n",
       "      <td>N</td>\n",
       "      <td>Raining</td>\n",
       "      <td>Wet</td>\n",
       "      <td>Dark - No Street Lights</td>\n",
       "    </tr>\n",
       "    <tr>\n",
       "      <th>139905</th>\n",
       "      <td>2</td>\n",
       "      <td>0</td>\n",
       "      <td>2</td>\n",
       "      <td>N</td>\n",
       "      <td>Clear</td>\n",
       "      <td>Dry</td>\n",
       "      <td>Daylight</td>\n",
       "    </tr>\n",
       "    <tr>\n",
       "      <th>32723</th>\n",
       "      <td>2</td>\n",
       "      <td>0</td>\n",
       "      <td>2</td>\n",
       "      <td>0</td>\n",
       "      <td>Overcast</td>\n",
       "      <td>Wet</td>\n",
       "      <td>Daylight</td>\n",
       "    </tr>\n",
       "    <tr>\n",
       "      <th>171914</th>\n",
       "      <td>4</td>\n",
       "      <td>0</td>\n",
       "      <td>2</td>\n",
       "      <td>N</td>\n",
       "      <td>Raining</td>\n",
       "      <td>Wet</td>\n",
       "      <td>Daylight</td>\n",
       "    </tr>\n",
       "    <tr>\n",
       "      <th>44382</th>\n",
       "      <td>2</td>\n",
       "      <td>0</td>\n",
       "      <td>2</td>\n",
       "      <td>0</td>\n",
       "      <td>Clear</td>\n",
       "      <td>Dry</td>\n",
       "      <td>Dark - Street Lights On</td>\n",
       "    </tr>\n",
       "  </tbody>\n",
       "</table>\n",
       "</div>"
      ],
      "text/plain": [
       "        PERSONCOUNT  PEDCYLCOUNT  VEHCOUNT UNDERINFL   WEATHER ROADCOND  \\\n",
       "179217            2            0         2         N   Raining      Wet   \n",
       "139905            2            0         2         N     Clear      Dry   \n",
       "32723             2            0         2         0  Overcast      Wet   \n",
       "171914            4            0         2         N   Raining      Wet   \n",
       "44382             2            0         2         0     Clear      Dry   \n",
       "\n",
       "                      LIGHTCOND  \n",
       "179217  Dark - No Street Lights  \n",
       "139905                 Daylight  \n",
       "32723                  Daylight  \n",
       "171914                 Daylight  \n",
       "44382   Dark - Street Lights On  "
      ]
     },
     "execution_count": 19,
     "metadata": {},
     "output_type": "execute_result"
    }
   ],
   "source": [
    "X1.head()"
   ]
  },
  {
   "cell_type": "code",
   "execution_count": 21,
   "metadata": {},
   "outputs": [
    {
     "data": {
      "text/html": [
       "<div>\n",
       "<style scoped>\n",
       "    .dataframe tbody tr th:only-of-type {\n",
       "        vertical-align: middle;\n",
       "    }\n",
       "\n",
       "    .dataframe tbody tr th {\n",
       "        vertical-align: top;\n",
       "    }\n",
       "\n",
       "    .dataframe thead th {\n",
       "        text-align: right;\n",
       "    }\n",
       "</style>\n",
       "<table border=\"1\" class=\"dataframe\">\n",
       "  <thead>\n",
       "    <tr style=\"text-align: right;\">\n",
       "      <th></th>\n",
       "      <th>PERSONCOUNT</th>\n",
       "      <th>PEDCYLCOUNT</th>\n",
       "      <th>VEHCOUNT</th>\n",
       "      <th>UNDERINFL</th>\n",
       "      <th>WEATHER_Clear</th>\n",
       "      <th>WEATHER_Fog/Smog/Smoke</th>\n",
       "      <th>WEATHER_Other</th>\n",
       "      <th>WEATHER_Overcast</th>\n",
       "      <th>WEATHER_Partly Cloudy</th>\n",
       "      <th>WEATHER_Raining</th>\n",
       "      <th>...</th>\n",
       "      <th>ROADCOND_Unknown</th>\n",
       "      <th>ROADCOND_Wet</th>\n",
       "      <th>LIGHTCOND_Dark - Street Lights Off</th>\n",
       "      <th>LIGHTCOND_Dark - Street Lights On</th>\n",
       "      <th>LIGHTCOND_Dark - Unknown Lighting</th>\n",
       "      <th>LIGHTCOND_Dawn</th>\n",
       "      <th>LIGHTCOND_Daylight</th>\n",
       "      <th>LIGHTCOND_Dusk</th>\n",
       "      <th>LIGHTCOND_Other</th>\n",
       "      <th>LIGHTCOND_Unknown</th>\n",
       "    </tr>\n",
       "  </thead>\n",
       "  <tbody>\n",
       "    <tr>\n",
       "      <th>179217</th>\n",
       "      <td>2</td>\n",
       "      <td>0</td>\n",
       "      <td>2</td>\n",
       "      <td>N</td>\n",
       "      <td>0</td>\n",
       "      <td>0</td>\n",
       "      <td>0</td>\n",
       "      <td>0</td>\n",
       "      <td>0</td>\n",
       "      <td>1</td>\n",
       "      <td>...</td>\n",
       "      <td>0</td>\n",
       "      <td>1</td>\n",
       "      <td>0</td>\n",
       "      <td>0</td>\n",
       "      <td>0</td>\n",
       "      <td>0</td>\n",
       "      <td>0</td>\n",
       "      <td>0</td>\n",
       "      <td>0</td>\n",
       "      <td>0</td>\n",
       "    </tr>\n",
       "    <tr>\n",
       "      <th>139905</th>\n",
       "      <td>2</td>\n",
       "      <td>0</td>\n",
       "      <td>2</td>\n",
       "      <td>N</td>\n",
       "      <td>1</td>\n",
       "      <td>0</td>\n",
       "      <td>0</td>\n",
       "      <td>0</td>\n",
       "      <td>0</td>\n",
       "      <td>0</td>\n",
       "      <td>...</td>\n",
       "      <td>0</td>\n",
       "      <td>0</td>\n",
       "      <td>0</td>\n",
       "      <td>0</td>\n",
       "      <td>0</td>\n",
       "      <td>0</td>\n",
       "      <td>1</td>\n",
       "      <td>0</td>\n",
       "      <td>0</td>\n",
       "      <td>0</td>\n",
       "    </tr>\n",
       "    <tr>\n",
       "      <th>32723</th>\n",
       "      <td>2</td>\n",
       "      <td>0</td>\n",
       "      <td>2</td>\n",
       "      <td>0</td>\n",
       "      <td>0</td>\n",
       "      <td>0</td>\n",
       "      <td>0</td>\n",
       "      <td>1</td>\n",
       "      <td>0</td>\n",
       "      <td>0</td>\n",
       "      <td>...</td>\n",
       "      <td>0</td>\n",
       "      <td>1</td>\n",
       "      <td>0</td>\n",
       "      <td>0</td>\n",
       "      <td>0</td>\n",
       "      <td>0</td>\n",
       "      <td>1</td>\n",
       "      <td>0</td>\n",
       "      <td>0</td>\n",
       "      <td>0</td>\n",
       "    </tr>\n",
       "    <tr>\n",
       "      <th>171914</th>\n",
       "      <td>4</td>\n",
       "      <td>0</td>\n",
       "      <td>2</td>\n",
       "      <td>N</td>\n",
       "      <td>0</td>\n",
       "      <td>0</td>\n",
       "      <td>0</td>\n",
       "      <td>0</td>\n",
       "      <td>0</td>\n",
       "      <td>1</td>\n",
       "      <td>...</td>\n",
       "      <td>0</td>\n",
       "      <td>1</td>\n",
       "      <td>0</td>\n",
       "      <td>0</td>\n",
       "      <td>0</td>\n",
       "      <td>0</td>\n",
       "      <td>1</td>\n",
       "      <td>0</td>\n",
       "      <td>0</td>\n",
       "      <td>0</td>\n",
       "    </tr>\n",
       "    <tr>\n",
       "      <th>44382</th>\n",
       "      <td>2</td>\n",
       "      <td>0</td>\n",
       "      <td>2</td>\n",
       "      <td>0</td>\n",
       "      <td>1</td>\n",
       "      <td>0</td>\n",
       "      <td>0</td>\n",
       "      <td>0</td>\n",
       "      <td>0</td>\n",
       "      <td>0</td>\n",
       "      <td>...</td>\n",
       "      <td>0</td>\n",
       "      <td>0</td>\n",
       "      <td>0</td>\n",
       "      <td>1</td>\n",
       "      <td>0</td>\n",
       "      <td>0</td>\n",
       "      <td>0</td>\n",
       "      <td>0</td>\n",
       "      <td>0</td>\n",
       "      <td>0</td>\n",
       "    </tr>\n",
       "  </tbody>\n",
       "</table>\n",
       "<p>5 rows × 30 columns</p>\n",
       "</div>"
      ],
      "text/plain": [
       "        PERSONCOUNT  PEDCYLCOUNT  VEHCOUNT UNDERINFL  WEATHER_Clear  \\\n",
       "179217            2            0         2         N              0   \n",
       "139905            2            0         2         N              1   \n",
       "32723             2            0         2         0              0   \n",
       "171914            4            0         2         N              0   \n",
       "44382             2            0         2         0              1   \n",
       "\n",
       "        WEATHER_Fog/Smog/Smoke  WEATHER_Other  WEATHER_Overcast  \\\n",
       "179217                       0              0                 0   \n",
       "139905                       0              0                 0   \n",
       "32723                        0              0                 1   \n",
       "171914                       0              0                 0   \n",
       "44382                        0              0                 0   \n",
       "\n",
       "        WEATHER_Partly Cloudy  WEATHER_Raining  ...  ROADCOND_Unknown  \\\n",
       "179217                      0                1  ...                 0   \n",
       "139905                      0                0  ...                 0   \n",
       "32723                       0                0  ...                 0   \n",
       "171914                      0                1  ...                 0   \n",
       "44382                       0                0  ...                 0   \n",
       "\n",
       "        ROADCOND_Wet  LIGHTCOND_Dark - Street Lights Off  \\\n",
       "179217             1                                   0   \n",
       "139905             0                                   0   \n",
       "32723              1                                   0   \n",
       "171914             1                                   0   \n",
       "44382              0                                   0   \n",
       "\n",
       "        LIGHTCOND_Dark - Street Lights On  LIGHTCOND_Dark - Unknown Lighting  \\\n",
       "179217                                  0                                  0   \n",
       "139905                                  0                                  0   \n",
       "32723                                   0                                  0   \n",
       "171914                                  0                                  0   \n",
       "44382                                   1                                  0   \n",
       "\n",
       "        LIGHTCOND_Dawn  LIGHTCOND_Daylight  LIGHTCOND_Dusk  LIGHTCOND_Other  \\\n",
       "179217               0                   0               0                0   \n",
       "139905               0                   1               0                0   \n",
       "32723                0                   1               0                0   \n",
       "171914               0                   1               0                0   \n",
       "44382                0                   0               0                0   \n",
       "\n",
       "        LIGHTCOND_Unknown  \n",
       "179217                  0  \n",
       "139905                  0  \n",
       "32723                   0  \n",
       "171914                  0  \n",
       "44382                   0  \n",
       "\n",
       "[5 rows x 30 columns]"
      ]
     },
     "execution_count": 21,
     "metadata": {},
     "output_type": "execute_result"
    }
   ],
   "source": [
    "Xdummy = pd.get_dummies(X1, columns=[\"WEATHER\",\n",
    "\"ROADCOND\", \"LIGHTCOND\"], drop_first=True)\n",
    "Xdummy.head()   ###categorical var into boolean variables"
   ]
  },
  {
   "cell_type": "code",
   "execution_count": 22,
   "metadata": {},
   "outputs": [
    {
     "data": {
      "text/plain": [
       "(29201, 30)"
      ]
     },
     "execution_count": 22,
     "metadata": {},
     "output_type": "execute_result"
    }
   ],
   "source": [
    "Xdummy.shape"
   ]
  },
  {
   "cell_type": "code",
   "execution_count": 23,
   "metadata": {},
   "outputs": [],
   "source": [
    "Xdummy['UNDERINFL'].replace(\"N\",0,inplace=True) ###replace N with 0 and Y with 1, see report for the assumpion"
   ]
  },
  {
   "cell_type": "code",
   "execution_count": 24,
   "metadata": {},
   "outputs": [
    {
     "name": "stdout",
     "output_type": "stream",
     "text": [
      "UNDERINFL\n",
      "0    15235\n",
      "1      819\n",
      "0    12534\n",
      "1      613\n",
      "dtype: int64\n"
     ]
    }
   ],
   "source": [
    "Xdummy['UNDERINFL'].replace(\"Y\",1,inplace=True)\n",
    "print(Xdummy.groupby('UNDERINFL').size()) "
   ]
  },
  {
   "cell_type": "code",
   "execution_count": 25,
   "metadata": {},
   "outputs": [
    {
     "name": "stdout",
     "output_type": "stream",
     "text": [
      "UNDERINFL\n",
      "0    15235\n",
      "1     1432\n",
      "0    12534\n",
      "dtype: int64\n"
     ]
    }
   ],
   "source": [
    "Xdummy['UNDERINFL'].replace(\"1\",1,inplace=True)\n",
    "print(Xdummy.groupby('UNDERINFL').size())"
   ]
  },
  {
   "cell_type": "code",
   "execution_count": 26,
   "metadata": {},
   "outputs": [
    {
     "name": "stdout",
     "output_type": "stream",
     "text": [
      "UNDERINFL\n",
      "0    27769\n",
      "1     1432\n",
      "dtype: int64\n"
     ]
    }
   ],
   "source": [
    "Xdummy['UNDERINFL'].replace(\"0\",0,inplace=True)\n",
    "print(Xdummy.groupby('UNDERINFL').size())"
   ]
  },
  {
   "cell_type": "code",
   "execution_count": 27,
   "metadata": {},
   "outputs": [
    {
     "name": "stdout",
     "output_type": "stream",
     "text": [
      "<class 'pandas.core.frame.DataFrame'>\n",
      "Int64Index: 29201 entries, 179217 to 103160\n",
      "Data columns (total 30 columns):\n",
      " #   Column                              Non-Null Count  Dtype\n",
      "---  ------                              --------------  -----\n",
      " 0   PERSONCOUNT                         29201 non-null  int64\n",
      " 1   PEDCYLCOUNT                         29201 non-null  int64\n",
      " 2   VEHCOUNT                            29201 non-null  int64\n",
      " 3   UNDERINFL                           29201 non-null  int64\n",
      " 4   WEATHER_Clear                       29201 non-null  uint8\n",
      " 5   WEATHER_Fog/Smog/Smoke              29201 non-null  uint8\n",
      " 6   WEATHER_Other                       29201 non-null  uint8\n",
      " 7   WEATHER_Overcast                    29201 non-null  uint8\n",
      " 8   WEATHER_Partly Cloudy               29201 non-null  uint8\n",
      " 9   WEATHER_Raining                     29201 non-null  uint8\n",
      " 10  WEATHER_Severe Crosswind            29201 non-null  uint8\n",
      " 11  WEATHER_Sleet/Hail/Freezing Rain    29201 non-null  uint8\n",
      " 12  WEATHER_Snowing                     29201 non-null  uint8\n",
      " 13  WEATHER_Unknown                     29201 non-null  uint8\n",
      " 14  ROADCOND_Ice                        29201 non-null  uint8\n",
      " 15  ROADCOND_Oil                        29201 non-null  uint8\n",
      " 16  ROADCOND_Other                      29201 non-null  uint8\n",
      " 17  ROADCOND_Sand/Mud/Dirt              29201 non-null  uint8\n",
      " 18  ROADCOND_Snow/Slush                 29201 non-null  uint8\n",
      " 19  ROADCOND_Standing Water             29201 non-null  uint8\n",
      " 20  ROADCOND_Unknown                    29201 non-null  uint8\n",
      " 21  ROADCOND_Wet                        29201 non-null  uint8\n",
      " 22  LIGHTCOND_Dark - Street Lights Off  29201 non-null  uint8\n",
      " 23  LIGHTCOND_Dark - Street Lights On   29201 non-null  uint8\n",
      " 24  LIGHTCOND_Dark - Unknown Lighting   29201 non-null  uint8\n",
      " 25  LIGHTCOND_Dawn                      29201 non-null  uint8\n",
      " 26  LIGHTCOND_Daylight                  29201 non-null  uint8\n",
      " 27  LIGHTCOND_Dusk                      29201 non-null  uint8\n",
      " 28  LIGHTCOND_Other                     29201 non-null  uint8\n",
      " 29  LIGHTCOND_Unknown                   29201 non-null  uint8\n",
      "dtypes: int64(4), uint8(26)\n",
      "memory usage: 1.8 MB\n"
     ]
    }
   ],
   "source": [
    "Xdummy.info()"
   ]
  },
  {
   "cell_type": "code",
   "execution_count": 28,
   "metadata": {},
   "outputs": [
    {
     "name": "stdout",
     "output_type": "stream",
     "text": [
      "(21900, 30)\n"
     ]
    }
   ],
   "source": [
    "from sklearn.model_selection import train_test_split       ####train test split using 75%-25% and stratify according to y\n",
    "X_train, X_test, y_train, y_test = train_test_split(Xdummy, y1,\n",
    "                                                    test_size =0.25,\n",
    "                                                    stratify=y1,\n",
    "                                                    random_state=5)\n",
    "print(X_train.shape)"
   ]
  },
  {
   "cell_type": "code",
   "execution_count": 29,
   "metadata": {},
   "outputs": [
    {
     "name": "stdout",
     "output_type": "stream",
     "text": [
      "(21900,)\n"
     ]
    },
    {
     "data": {
      "text/plain": [
       "187395    1\n",
       "37129     2\n",
       "151588    2\n",
       "37681     1\n",
       "159589    1\n",
       "Name: SEVERITYCODE, dtype: int64"
      ]
     },
     "execution_count": 29,
     "metadata": {},
     "output_type": "execute_result"
    }
   ],
   "source": [
    "print(y_train.shape)\n",
    "y_train.head()"
   ]
  },
  {
   "cell_type": "code",
   "execution_count": 30,
   "metadata": {},
   "outputs": [],
   "source": [
    "from sklearn.neighbors import KNeighborsClassifier  ##first algorithm\n",
    "import numpy as np\n",
    "classifierK1 = KNeighborsClassifier()\n",
    "parametersK1 = {'n_neighbors':np.arange(11,17)}"
   ]
  },
  {
   "cell_type": "code",
   "execution_count": 31,
   "metadata": {},
   "outputs": [],
   "source": [
    "from sklearn.model_selection import GridSearchCV   ##GridSearch\n",
    "gsK1 = GridSearchCV(classifierK1, parametersK1, cv=3, scoring = 'accuracy', verbose=50,\n",
    "n_jobs=-1, refit=True)"
   ]
  },
  {
   "cell_type": "code",
   "execution_count": 32,
   "metadata": {},
   "outputs": [
    {
     "name": "stdout",
     "output_type": "stream",
     "text": [
      "Fitting 3 folds for each of 6 candidates, totalling 18 fits\n",
      "[Parallel(n_jobs=-1)]: Using backend SequentialBackend with 1 concurrent workers.\n",
      "[CV] n_neighbors=11 ..................................................\n",
      "[CV] ......... n_neighbors=11, score=0.7295890410958904, total=   5.8s\n",
      "[Parallel(n_jobs=-1)]: Done   1 out of   1 | elapsed:   16.4s remaining:    0.0s\n",
      "[CV] n_neighbors=11 ..................................................\n",
      "[CV] ......... n_neighbors=11, score=0.7326027397260274, total=   5.6s\n",
      "[Parallel(n_jobs=-1)]: Done   2 out of   2 | elapsed:   32.4s remaining:    0.0s\n",
      "[CV] n_neighbors=11 ..................................................\n",
      "[CV] ......... n_neighbors=11, score=0.7321917808219178, total=   5.7s\n",
      "[Parallel(n_jobs=-1)]: Done   3 out of   3 | elapsed:   48.5s remaining:    0.0s\n",
      "[CV] n_neighbors=12 ..................................................\n",
      "[CV] ......... n_neighbors=12, score=0.7367123287671233, total=   6.7s\n",
      "[Parallel(n_jobs=-1)]: Done   4 out of   4 | elapsed:  1.1min remaining:    0.0s\n",
      "[CV] n_neighbors=12 ..................................................\n",
      "[CV] ......... n_neighbors=12, score=0.7317808219178082, total=   5.8s\n",
      "[Parallel(n_jobs=-1)]: Done   5 out of   5 | elapsed:  1.4min remaining:    0.0s\n",
      "[CV] n_neighbors=12 ..................................................\n",
      "[CV] ......... n_neighbors=12, score=0.7321917808219178, total=   5.8s\n",
      "[Parallel(n_jobs=-1)]: Done   6 out of   6 | elapsed:  1.6min remaining:    0.0s\n",
      "[CV] n_neighbors=13 ..................................................\n",
      "[CV] ......... n_neighbors=13, score=0.7367123287671233, total=   5.9s\n",
      "[Parallel(n_jobs=-1)]: Done   7 out of   7 | elapsed:  1.9min remaining:    0.0s\n",
      "[CV] n_neighbors=13 ..................................................\n",
      "[CV] ......... n_neighbors=13, score=0.7316438356164383, total=   5.8s\n",
      "[Parallel(n_jobs=-1)]: Done   8 out of   8 | elapsed:  2.2min remaining:    0.0s\n",
      "[CV] n_neighbors=13 ..................................................\n",
      "[CV] ......... n_neighbors=13, score=0.7327397260273972, total=   5.7s\n",
      "[Parallel(n_jobs=-1)]: Done   9 out of   9 | elapsed:  2.5min remaining:    0.0s\n",
      "[CV] n_neighbors=14 ..................................................\n",
      "[CV] ......... n_neighbors=14, score=0.7406849315068493, total=   6.0s\n",
      "[Parallel(n_jobs=-1)]: Done  10 out of  10 | elapsed:  2.8min remaining:    0.0s\n",
      "[CV] n_neighbors=14 ..................................................\n",
      "[CV] ......... n_neighbors=14, score=0.7335616438356164, total=   5.8s\n",
      "[Parallel(n_jobs=-1)]: Done  11 out of  11 | elapsed:  3.1min remaining:    0.0s\n",
      "[CV] n_neighbors=14 ..................................................\n",
      "[CV] ......... n_neighbors=14, score=0.7375342465753425, total=   6.1s\n",
      "[Parallel(n_jobs=-1)]: Done  12 out of  12 | elapsed:  3.4min remaining:    0.0s\n",
      "[CV] n_neighbors=15 ..................................................\n",
      "[CV] ......... n_neighbors=15, score=0.7372602739726027, total=   6.0s\n",
      "[Parallel(n_jobs=-1)]: Done  13 out of  13 | elapsed:  3.6min remaining:    0.0s\n",
      "[CV] n_neighbors=15 ..................................................\n",
      "[CV] ......... n_neighbors=15, score=0.7308219178082191, total=   5.8s\n",
      "[Parallel(n_jobs=-1)]: Done  14 out of  14 | elapsed:  3.9min remaining:    0.0s\n",
      "[CV] n_neighbors=15 ..................................................\n",
      "[CV] ......... n_neighbors=15, score=0.7378082191780821, total=   6.8s\n",
      "[Parallel(n_jobs=-1)]: Done  15 out of  15 | elapsed:  4.2min remaining:    0.0s\n",
      "[CV] n_neighbors=16 ..................................................\n",
      "[CV] ......... n_neighbors=16, score=0.7389041095890411, total=   6.0s\n",
      "[Parallel(n_jobs=-1)]: Done  16 out of  16 | elapsed:  4.5min remaining:    0.0s\n",
      "[CV] n_neighbors=16 ..................................................\n",
      "[CV] ......... n_neighbors=16, score=0.7309589041095891, total=   6.0s\n",
      "[Parallel(n_jobs=-1)]: Done  17 out of  17 | elapsed:  4.8min remaining:    0.0s\n",
      "[CV] n_neighbors=16 ..................................................\n",
      "[CV] ......... n_neighbors=16, score=0.7358904109589041, total=   6.2s\n",
      "[Parallel(n_jobs=-1)]: Done  18 out of  18 | elapsed:  5.1min remaining:    0.0s\n",
      "[Parallel(n_jobs=-1)]: Done  18 out of  18 | elapsed:  5.1min finished\n"
     ]
    }
   ],
   "source": [
    "gsK1 = gsK1.fit(X_train, y_train)   #train the model"
   ]
  },
  {
   "cell_type": "code",
   "execution_count": 33,
   "metadata": {},
   "outputs": [],
   "source": [
    "best_modelK1 = gsK1.best_estimator_\n",
    "y_predK1 = best_modelK1.predict(X_test)"
   ]
  },
  {
   "cell_type": "code",
   "execution_count": 35,
   "metadata": {},
   "outputs": [
    {
     "data": {
      "text/plain": [
       "0.8186714542190305"
      ]
     },
     "execution_count": 35,
     "metadata": {},
     "output_type": "execute_result"
    }
   ],
   "source": [
    "from sklearn.metrics import f1_score   ##predict values of test set and get the result using the best estimator of the first algorithm\n",
    "f1_score(y_test, y_predK1)"
   ]
  },
  {
   "cell_type": "code",
   "execution_count": 36,
   "metadata": {},
   "outputs": [],
   "source": [
    "from sklearn.linear_model import LogisticRegression  ###second algorithm\n",
    "import numpy as np\n",
    "classifierL = LogisticRegression()\n",
    "parametersL = {\"C\":[1e-2,1e-1,1,10,100]}"
   ]
  },
  {
   "cell_type": "code",
   "execution_count": 38,
   "metadata": {},
   "outputs": [],
   "source": [
    "gsL = GridSearchCV(classifierL, parametersL, cv=3, scoring = 'accuracy', verbose=50, n_jobs=-1, refit=True)"
   ]
  },
  {
   "cell_type": "code",
   "execution_count": 39,
   "metadata": {},
   "outputs": [
    {
     "name": "stdout",
     "output_type": "stream",
     "text": [
      "Fitting 3 folds for each of 5 candidates, totalling 15 fits\n",
      "[Parallel(n_jobs=-1)]: Using backend SequentialBackend with 1 concurrent workers.\n",
      "[CV] C=0.01 ..........................................................\n"
     ]
    },
    {
     "name": "stderr",
     "output_type": "stream",
     "text": [
      "/home/jupyterlab/conda/envs/python/lib/python3.6/site-packages/sklearn/linear_model/logistic.py:433: FutureWarning: Default solver will be changed to 'lbfgs' in 0.22. Specify a solver to silence this warning.\n",
      "  FutureWarning)\n"
     ]
    },
    {
     "name": "stdout",
     "output_type": "stream",
     "text": [
      "[CV] ................. C=0.01, score=0.7297260273972602, total=   0.4s\n",
      "[Parallel(n_jobs=-1)]: Done   1 out of   1 | elapsed:    0.6s remaining:    0.0s\n",
      "[CV] C=0.01 ..........................................................\n"
     ]
    },
    {
     "name": "stderr",
     "output_type": "stream",
     "text": [
      "/home/jupyterlab/conda/envs/python/lib/python3.6/site-packages/sklearn/linear_model/logistic.py:433: FutureWarning: Default solver will be changed to 'lbfgs' in 0.22. Specify a solver to silence this warning.\n",
      "  FutureWarning)\n"
     ]
    },
    {
     "name": "stdout",
     "output_type": "stream",
     "text": [
      "[CV] ................. C=0.01, score=0.7138356164383561, total=   0.4s\n",
      "[Parallel(n_jobs=-1)]: Done   2 out of   2 | elapsed:    1.2s remaining:    0.0s\n",
      "[CV] C=0.01 ..........................................................\n"
     ]
    },
    {
     "name": "stderr",
     "output_type": "stream",
     "text": [
      "/home/jupyterlab/conda/envs/python/lib/python3.6/site-packages/sklearn/linear_model/logistic.py:433: FutureWarning: Default solver will be changed to 'lbfgs' in 0.22. Specify a solver to silence this warning.\n",
      "  FutureWarning)\n"
     ]
    },
    {
     "name": "stdout",
     "output_type": "stream",
     "text": [
      "[CV] ................. C=0.01, score=0.7215068493150685, total=   0.5s\n",
      "[Parallel(n_jobs=-1)]: Done   3 out of   3 | elapsed:    1.9s remaining:    0.0s\n",
      "[CV] C=0.1 ...........................................................\n"
     ]
    },
    {
     "name": "stderr",
     "output_type": "stream",
     "text": [
      "/home/jupyterlab/conda/envs/python/lib/python3.6/site-packages/sklearn/linear_model/logistic.py:433: FutureWarning: Default solver will be changed to 'lbfgs' in 0.22. Specify a solver to silence this warning.\n",
      "  FutureWarning)\n"
     ]
    },
    {
     "name": "stdout",
     "output_type": "stream",
     "text": [
      "[CV] .................. C=0.1, score=0.7305479452054795, total=   0.4s\n",
      "[Parallel(n_jobs=-1)]: Done   4 out of   4 | elapsed:    2.4s remaining:    0.0s\n",
      "[CV] C=0.1 ...........................................................\n"
     ]
    },
    {
     "name": "stderr",
     "output_type": "stream",
     "text": [
      "/home/jupyterlab/conda/envs/python/lib/python3.6/site-packages/sklearn/linear_model/logistic.py:433: FutureWarning: Default solver will be changed to 'lbfgs' in 0.22. Specify a solver to silence this warning.\n",
      "  FutureWarning)\n"
     ]
    },
    {
     "name": "stdout",
     "output_type": "stream",
     "text": [
      "[CV] ................... C=0.1, score=0.716027397260274, total=   0.4s\n",
      "[Parallel(n_jobs=-1)]: Done   5 out of   5 | elapsed:    3.0s remaining:    0.0s\n",
      "[CV] C=0.1 ...........................................................\n"
     ]
    },
    {
     "name": "stderr",
     "output_type": "stream",
     "text": [
      "/home/jupyterlab/conda/envs/python/lib/python3.6/site-packages/sklearn/linear_model/logistic.py:433: FutureWarning: Default solver will be changed to 'lbfgs' in 0.22. Specify a solver to silence this warning.\n",
      "  FutureWarning)\n"
     ]
    },
    {
     "name": "stdout",
     "output_type": "stream",
     "text": [
      "[CV] .................. C=0.1, score=0.7232876712328767, total=   0.4s\n",
      "[Parallel(n_jobs=-1)]: Done   6 out of   6 | elapsed:    3.5s remaining:    0.0s\n",
      "[CV] C=1 .............................................................\n"
     ]
    },
    {
     "name": "stderr",
     "output_type": "stream",
     "text": [
      "/home/jupyterlab/conda/envs/python/lib/python3.6/site-packages/sklearn/linear_model/logistic.py:433: FutureWarning: Default solver will be changed to 'lbfgs' in 0.22. Specify a solver to silence this warning.\n",
      "  FutureWarning)\n"
     ]
    },
    {
     "name": "stdout",
     "output_type": "stream",
     "text": [
      "[CV] .................... C=1, score=0.7306849315068493, total=   0.3s\n",
      "[Parallel(n_jobs=-1)]: Done   7 out of   7 | elapsed:    3.9s remaining:    0.0s\n",
      "[CV] C=1 .............................................................\n"
     ]
    },
    {
     "name": "stderr",
     "output_type": "stream",
     "text": [
      "/home/jupyterlab/conda/envs/python/lib/python3.6/site-packages/sklearn/linear_model/logistic.py:433: FutureWarning: Default solver will be changed to 'lbfgs' in 0.22. Specify a solver to silence this warning.\n",
      "  FutureWarning)\n"
     ]
    },
    {
     "name": "stdout",
     "output_type": "stream",
     "text": [
      "[CV] .................... C=1, score=0.7164383561643836, total=   0.6s\n",
      "[Parallel(n_jobs=-1)]: Done   8 out of   8 | elapsed:    4.8s remaining:    0.0s\n",
      "[CV] C=1 .............................................................\n"
     ]
    },
    {
     "name": "stderr",
     "output_type": "stream",
     "text": [
      "/home/jupyterlab/conda/envs/python/lib/python3.6/site-packages/sklearn/linear_model/logistic.py:433: FutureWarning: Default solver will be changed to 'lbfgs' in 0.22. Specify a solver to silence this warning.\n",
      "  FutureWarning)\n"
     ]
    },
    {
     "name": "stdout",
     "output_type": "stream",
     "text": [
      "[CV] .................... C=1, score=0.7234246575342466, total=   0.4s\n",
      "[Parallel(n_jobs=-1)]: Done   9 out of   9 | elapsed:    5.3s remaining:    0.0s\n",
      "[CV] C=10 ............................................................\n"
     ]
    },
    {
     "name": "stderr",
     "output_type": "stream",
     "text": [
      "/home/jupyterlab/conda/envs/python/lib/python3.6/site-packages/sklearn/linear_model/logistic.py:433: FutureWarning: Default solver will be changed to 'lbfgs' in 0.22. Specify a solver to silence this warning.\n",
      "  FutureWarning)\n"
     ]
    },
    {
     "name": "stdout",
     "output_type": "stream",
     "text": [
      "[CV] ................... C=10, score=0.7305479452054795, total=   0.6s\n",
      "[Parallel(n_jobs=-1)]: Done  10 out of  10 | elapsed:    6.1s remaining:    0.0s\n",
      "[CV] C=10 ............................................................\n"
     ]
    },
    {
     "name": "stderr",
     "output_type": "stream",
     "text": [
      "/home/jupyterlab/conda/envs/python/lib/python3.6/site-packages/sklearn/linear_model/logistic.py:433: FutureWarning: Default solver will be changed to 'lbfgs' in 0.22. Specify a solver to silence this warning.\n",
      "  FutureWarning)\n"
     ]
    },
    {
     "name": "stdout",
     "output_type": "stream",
     "text": [
      "[CV] .................... C=10, score=0.716986301369863, total=   0.7s\n",
      "[Parallel(n_jobs=-1)]: Done  11 out of  11 | elapsed:    7.0s remaining:    0.0s\n",
      "[CV] C=10 ............................................................\n"
     ]
    },
    {
     "name": "stderr",
     "output_type": "stream",
     "text": [
      "/home/jupyterlab/conda/envs/python/lib/python3.6/site-packages/sklearn/linear_model/logistic.py:433: FutureWarning: Default solver will be changed to 'lbfgs' in 0.22. Specify a solver to silence this warning.\n",
      "  FutureWarning)\n"
     ]
    },
    {
     "name": "stdout",
     "output_type": "stream",
     "text": [
      "[CV] ................... C=10, score=0.7234246575342466, total=   0.7s\n",
      "[Parallel(n_jobs=-1)]: Done  12 out of  12 | elapsed:    7.9s remaining:    0.0s\n",
      "[CV] C=100 ...........................................................\n"
     ]
    },
    {
     "name": "stderr",
     "output_type": "stream",
     "text": [
      "/home/jupyterlab/conda/envs/python/lib/python3.6/site-packages/sklearn/linear_model/logistic.py:433: FutureWarning: Default solver will be changed to 'lbfgs' in 0.22. Specify a solver to silence this warning.\n",
      "  FutureWarning)\n"
     ]
    },
    {
     "name": "stdout",
     "output_type": "stream",
     "text": [
      "[CV] .................. C=100, score=0.7305479452054795, total=   0.8s\n",
      "[Parallel(n_jobs=-1)]: Done  13 out of  13 | elapsed:    8.7s remaining:    0.0s\n",
      "[CV] C=100 ...........................................................\n"
     ]
    },
    {
     "name": "stderr",
     "output_type": "stream",
     "text": [
      "/home/jupyterlab/conda/envs/python/lib/python3.6/site-packages/sklearn/linear_model/logistic.py:433: FutureWarning: Default solver will be changed to 'lbfgs' in 0.22. Specify a solver to silence this warning.\n",
      "  FutureWarning)\n"
     ]
    },
    {
     "name": "stdout",
     "output_type": "stream",
     "text": [
      "[CV] .................. C=100, score=0.7168493150684931, total=   0.8s\n",
      "[Parallel(n_jobs=-1)]: Done  14 out of  14 | elapsed:    9.6s remaining:    0.0s\n",
      "[CV] C=100 ...........................................................\n"
     ]
    },
    {
     "name": "stderr",
     "output_type": "stream",
     "text": [
      "/home/jupyterlab/conda/envs/python/lib/python3.6/site-packages/sklearn/linear_model/logistic.py:433: FutureWarning: Default solver will be changed to 'lbfgs' in 0.22. Specify a solver to silence this warning.\n",
      "  FutureWarning)\n"
     ]
    },
    {
     "name": "stdout",
     "output_type": "stream",
     "text": [
      "[CV] ................... C=100, score=0.723013698630137, total=   0.5s\n",
      "[Parallel(n_jobs=-1)]: Done  15 out of  15 | elapsed:   10.1s remaining:    0.0s\n",
      "[Parallel(n_jobs=-1)]: Done  15 out of  15 | elapsed:   10.1s finished\n"
     ]
    },
    {
     "name": "stderr",
     "output_type": "stream",
     "text": [
      "/home/jupyterlab/conda/envs/python/lib/python3.6/site-packages/sklearn/linear_model/logistic.py:433: FutureWarning: Default solver will be changed to 'lbfgs' in 0.22. Specify a solver to silence this warning.\n",
      "  FutureWarning)\n"
     ]
    }
   ],
   "source": [
    "gsL = gsL.fit(X_train, y_train)   #train the algorithm"
   ]
  },
  {
   "cell_type": "code",
   "execution_count": 41,
   "metadata": {},
   "outputs": [],
   "source": [
    "best_modelL = gsL.best_estimator_\n",
    "y_predL = best_modelL.predict(X_test)"
   ]
  },
  {
   "cell_type": "code",
   "execution_count": 42,
   "metadata": {},
   "outputs": [
    {
     "data": {
      "text/plain": [
       "0.8314756280153053"
      ]
     },
     "execution_count": 42,
     "metadata": {},
     "output_type": "execute_result"
    }
   ],
   "source": [
    "f1_score(y_test, y_predL)   ##predict the target values of test variables using the best parameters of the second algorthm"
   ]
  },
  {
   "cell_type": "code",
   "execution_count": 43,
   "metadata": {},
   "outputs": [],
   "source": [
    "from sklearn.tree import DecisionTreeClassifier   ##third algorithm\n",
    "classifierT1 = DecisionTreeClassifier()\n",
    "parametersT1 = {'criterion': ['entropy'],\n",
    "'max_depth': [4,6,8],\n",
    "'min_samples_split': [4,12],\n",
    "'min_samples_leaf': [14,26]}"
   ]
  },
  {
   "cell_type": "code",
   "execution_count": 44,
   "metadata": {},
   "outputs": [],
   "source": [
    "gsT1 = GridSearchCV(classifierT1, parametersT1, cv=3, scoring = 'accuracy', verbose=50,\n",
    "n_jobs=-1, refit=True)"
   ]
  },
  {
   "cell_type": "code",
   "execution_count": 45,
   "metadata": {},
   "outputs": [
    {
     "name": "stdout",
     "output_type": "stream",
     "text": [
      "Fitting 3 folds for each of 12 candidates, totalling 36 fits\n",
      "[Parallel(n_jobs=-1)]: Using backend SequentialBackend with 1 concurrent workers.\n",
      "[CV] criterion=entropy, max_depth=4, min_samples_leaf=14, min_samples_split=4 \n",
      "[CV]  criterion=entropy, max_depth=4, min_samples_leaf=14, min_samples_split=4, score=0.7471232876712329, total=   0.1s\n",
      "[Parallel(n_jobs=-1)]: Done   1 out of   1 | elapsed:    0.1s remaining:    0.0s\n",
      "[CV] criterion=entropy, max_depth=4, min_samples_leaf=14, min_samples_split=4 \n",
      "[CV]  criterion=entropy, max_depth=4, min_samples_leaf=14, min_samples_split=4, score=0.7431506849315068, total=   0.1s\n",
      "[Parallel(n_jobs=-1)]: Done   2 out of   2 | elapsed:    0.2s remaining:    0.0s\n",
      "[CV] criterion=entropy, max_depth=4, min_samples_leaf=14, min_samples_split=4 \n",
      "[CV]  criterion=entropy, max_depth=4, min_samples_leaf=14, min_samples_split=4, score=0.7452054794520548, total=   0.1s\n",
      "[Parallel(n_jobs=-1)]: Done   3 out of   3 | elapsed:    0.4s remaining:    0.0s\n",
      "[CV] criterion=entropy, max_depth=4, min_samples_leaf=14, min_samples_split=12 \n",
      "[CV]  criterion=entropy, max_depth=4, min_samples_leaf=14, min_samples_split=12, score=0.7471232876712329, total=   0.1s\n",
      "[Parallel(n_jobs=-1)]: Done   4 out of   4 | elapsed:    0.5s remaining:    0.0s\n",
      "[CV] criterion=entropy, max_depth=4, min_samples_leaf=14, min_samples_split=12 \n",
      "[CV]  criterion=entropy, max_depth=4, min_samples_leaf=14, min_samples_split=12, score=0.7431506849315068, total=   0.1s\n",
      "[Parallel(n_jobs=-1)]: Done   5 out of   5 | elapsed:    0.6s remaining:    0.0s\n",
      "[CV] criterion=entropy, max_depth=4, min_samples_leaf=14, min_samples_split=12 \n",
      "[CV]  criterion=entropy, max_depth=4, min_samples_leaf=14, min_samples_split=12, score=0.7452054794520548, total=   0.1s\n",
      "[Parallel(n_jobs=-1)]: Done   6 out of   6 | elapsed:    0.7s remaining:    0.0s\n",
      "[CV] criterion=entropy, max_depth=4, min_samples_leaf=26, min_samples_split=4 \n",
      "[CV]  criterion=entropy, max_depth=4, min_samples_leaf=26, min_samples_split=4, score=0.7465753424657534, total=   0.1s\n",
      "[Parallel(n_jobs=-1)]: Done   7 out of   7 | elapsed:    0.8s remaining:    0.0s\n",
      "[CV] criterion=entropy, max_depth=4, min_samples_leaf=26, min_samples_split=4 \n",
      "[CV]  criterion=entropy, max_depth=4, min_samples_leaf=26, min_samples_split=4, score=0.7431506849315068, total=   0.1s\n",
      "[Parallel(n_jobs=-1)]: Done   8 out of   8 | elapsed:    0.9s remaining:    0.0s\n",
      "[CV] criterion=entropy, max_depth=4, min_samples_leaf=26, min_samples_split=4 \n",
      "[CV]  criterion=entropy, max_depth=4, min_samples_leaf=26, min_samples_split=4, score=0.7452054794520548, total=   0.1s\n",
      "[Parallel(n_jobs=-1)]: Done   9 out of   9 | elapsed:    1.0s remaining:    0.0s\n",
      "[CV] criterion=entropy, max_depth=4, min_samples_leaf=26, min_samples_split=12 \n",
      "[CV]  criterion=entropy, max_depth=4, min_samples_leaf=26, min_samples_split=12, score=0.7465753424657534, total=   0.1s\n",
      "[Parallel(n_jobs=-1)]: Done  10 out of  10 | elapsed:    1.2s remaining:    0.0s\n",
      "[CV] criterion=entropy, max_depth=4, min_samples_leaf=26, min_samples_split=12 \n",
      "[CV]  criterion=entropy, max_depth=4, min_samples_leaf=26, min_samples_split=12, score=0.7431506849315068, total=   0.1s\n",
      "[Parallel(n_jobs=-1)]: Done  11 out of  11 | elapsed:    1.3s remaining:    0.0s\n",
      "[CV] criterion=entropy, max_depth=4, min_samples_leaf=26, min_samples_split=12 \n",
      "[CV]  criterion=entropy, max_depth=4, min_samples_leaf=26, min_samples_split=12, score=0.7452054794520548, total=   0.1s\n",
      "[Parallel(n_jobs=-1)]: Done  12 out of  12 | elapsed:    1.4s remaining:    0.0s\n",
      "[CV] criterion=entropy, max_depth=6, min_samples_leaf=14, min_samples_split=4 \n",
      "[CV]  criterion=entropy, max_depth=6, min_samples_leaf=14, min_samples_split=4, score=0.7489041095890411, total=   0.1s\n",
      "[Parallel(n_jobs=-1)]: Done  13 out of  13 | elapsed:    1.5s remaining:    0.0s\n",
      "[CV] criterion=entropy, max_depth=6, min_samples_leaf=14, min_samples_split=4 \n",
      "[CV]  criterion=entropy, max_depth=6, min_samples_leaf=14, min_samples_split=4, score=0.7412328767123287, total=   0.1s\n",
      "[Parallel(n_jobs=-1)]: Done  14 out of  14 | elapsed:    1.6s remaining:    0.0s\n",
      "[CV] criterion=entropy, max_depth=6, min_samples_leaf=14, min_samples_split=4 \n",
      "[CV]  criterion=entropy, max_depth=6, min_samples_leaf=14, min_samples_split=4, score=0.7449315068493151, total=   0.1s\n",
      "[Parallel(n_jobs=-1)]: Done  15 out of  15 | elapsed:    1.7s remaining:    0.0s\n",
      "[CV] criterion=entropy, max_depth=6, min_samples_leaf=14, min_samples_split=12 \n",
      "[CV]  criterion=entropy, max_depth=6, min_samples_leaf=14, min_samples_split=12, score=0.7489041095890411, total=   0.1s\n",
      "[Parallel(n_jobs=-1)]: Done  16 out of  16 | elapsed:    1.8s remaining:    0.0s\n",
      "[CV] criterion=entropy, max_depth=6, min_samples_leaf=14, min_samples_split=12 \n",
      "[CV]  criterion=entropy, max_depth=6, min_samples_leaf=14, min_samples_split=12, score=0.7412328767123287, total=   0.5s\n",
      "[Parallel(n_jobs=-1)]: Done  17 out of  17 | elapsed:    2.3s remaining:    0.0s\n",
      "[CV] criterion=entropy, max_depth=6, min_samples_leaf=14, min_samples_split=12 \n",
      "[CV]  criterion=entropy, max_depth=6, min_samples_leaf=14, min_samples_split=12, score=0.7449315068493151, total=   0.1s\n",
      "[Parallel(n_jobs=-1)]: Done  18 out of  18 | elapsed:    2.4s remaining:    0.0s\n",
      "[CV] criterion=entropy, max_depth=6, min_samples_leaf=26, min_samples_split=4 \n",
      "[CV]  criterion=entropy, max_depth=6, min_samples_leaf=26, min_samples_split=4, score=0.7486301369863013, total=   0.1s\n",
      "[Parallel(n_jobs=-1)]: Done  19 out of  19 | elapsed:    2.5s remaining:    0.0s\n",
      "[CV] criterion=entropy, max_depth=6, min_samples_leaf=26, min_samples_split=4 \n",
      "[CV]  criterion=entropy, max_depth=6, min_samples_leaf=26, min_samples_split=4, score=0.7424657534246575, total=   0.1s\n",
      "[Parallel(n_jobs=-1)]: Done  20 out of  20 | elapsed:    2.6s remaining:    0.0s\n",
      "[CV] criterion=entropy, max_depth=6, min_samples_leaf=26, min_samples_split=4 \n",
      "[CV]  criterion=entropy, max_depth=6, min_samples_leaf=26, min_samples_split=4, score=0.7452054794520548, total=   0.1s\n",
      "[Parallel(n_jobs=-1)]: Done  21 out of  21 | elapsed:    2.7s remaining:    0.0s\n",
      "[CV] criterion=entropy, max_depth=6, min_samples_leaf=26, min_samples_split=12 \n",
      "[CV]  criterion=entropy, max_depth=6, min_samples_leaf=26, min_samples_split=12, score=0.7486301369863013, total=   0.1s\n",
      "[Parallel(n_jobs=-1)]: Done  22 out of  22 | elapsed:    2.8s remaining:    0.0s\n",
      "[CV] criterion=entropy, max_depth=6, min_samples_leaf=26, min_samples_split=12 \n",
      "[CV]  criterion=entropy, max_depth=6, min_samples_leaf=26, min_samples_split=12, score=0.7424657534246575, total=   0.1s\n",
      "[Parallel(n_jobs=-1)]: Done  23 out of  23 | elapsed:    2.9s remaining:    0.0s\n",
      "[CV] criterion=entropy, max_depth=6, min_samples_leaf=26, min_samples_split=12 \n",
      "[CV]  criterion=entropy, max_depth=6, min_samples_leaf=26, min_samples_split=12, score=0.7452054794520548, total=   0.1s\n",
      "[Parallel(n_jobs=-1)]: Done  24 out of  24 | elapsed:    3.0s remaining:    0.0s\n",
      "[CV] criterion=entropy, max_depth=8, min_samples_leaf=14, min_samples_split=4 \n",
      "[CV]  criterion=entropy, max_depth=8, min_samples_leaf=14, min_samples_split=4, score=0.7479452054794521, total=   0.2s\n",
      "[Parallel(n_jobs=-1)]: Done  25 out of  25 | elapsed:    3.2s remaining:    0.0s\n",
      "[CV] criterion=entropy, max_depth=8, min_samples_leaf=14, min_samples_split=4 \n",
      "[CV]  criterion=entropy, max_depth=8, min_samples_leaf=14, min_samples_split=4, score=0.7376712328767123, total=   0.1s\n",
      "[Parallel(n_jobs=-1)]: Done  26 out of  26 | elapsed:    3.3s remaining:    0.0s\n",
      "[CV] criterion=entropy, max_depth=8, min_samples_leaf=14, min_samples_split=4 \n",
      "[CV]  criterion=entropy, max_depth=8, min_samples_leaf=14, min_samples_split=4, score=0.7463013698630137, total=   0.1s\n",
      "[Parallel(n_jobs=-1)]: Done  27 out of  27 | elapsed:    3.5s remaining:    0.0s\n",
      "[CV] criterion=entropy, max_depth=8, min_samples_leaf=14, min_samples_split=12 \n",
      "[CV]  criterion=entropy, max_depth=8, min_samples_leaf=14, min_samples_split=12, score=0.7479452054794521, total=   0.2s\n",
      "[Parallel(n_jobs=-1)]: Done  28 out of  28 | elapsed:    3.7s remaining:    0.0s\n",
      "[CV] criterion=entropy, max_depth=8, min_samples_leaf=14, min_samples_split=12 \n",
      "[CV]  criterion=entropy, max_depth=8, min_samples_leaf=14, min_samples_split=12, score=0.7376712328767123, total=   0.1s\n",
      "[Parallel(n_jobs=-1)]: Done  29 out of  29 | elapsed:    3.9s remaining:    0.0s\n",
      "[CV] criterion=entropy, max_depth=8, min_samples_leaf=14, min_samples_split=12 \n",
      "[CV]  criterion=entropy, max_depth=8, min_samples_leaf=14, min_samples_split=12, score=0.7463013698630137, total=   0.1s\n",
      "[Parallel(n_jobs=-1)]: Done  30 out of  30 | elapsed:    4.0s remaining:    0.0s\n",
      "[CV] criterion=entropy, max_depth=8, min_samples_leaf=26, min_samples_split=4 \n",
      "[CV]  criterion=entropy, max_depth=8, min_samples_leaf=26, min_samples_split=4, score=0.7475342465753425, total=   0.1s\n",
      "[Parallel(n_jobs=-1)]: Done  31 out of  31 | elapsed:    4.1s remaining:    0.0s\n",
      "[CV] criterion=entropy, max_depth=8, min_samples_leaf=26, min_samples_split=4 \n",
      "[CV]  criterion=entropy, max_depth=8, min_samples_leaf=26, min_samples_split=4, score=0.739041095890411, total=   0.1s\n",
      "[Parallel(n_jobs=-1)]: Done  32 out of  32 | elapsed:    4.3s remaining:    0.0s\n",
      "[CV] criterion=entropy, max_depth=8, min_samples_leaf=26, min_samples_split=4 \n",
      "[CV]  criterion=entropy, max_depth=8, min_samples_leaf=26, min_samples_split=4, score=0.7465753424657534, total=   0.1s\n",
      "[Parallel(n_jobs=-1)]: Done  33 out of  33 | elapsed:    4.5s remaining:    0.0s\n",
      "[CV] criterion=entropy, max_depth=8, min_samples_leaf=26, min_samples_split=12 \n",
      "[CV]  criterion=entropy, max_depth=8, min_samples_leaf=26, min_samples_split=12, score=0.7475342465753425, total=   0.1s\n",
      "[Parallel(n_jobs=-1)]: Done  34 out of  34 | elapsed:    4.6s remaining:    0.0s\n",
      "[CV] criterion=entropy, max_depth=8, min_samples_leaf=26, min_samples_split=12 \n",
      "[CV]  criterion=entropy, max_depth=8, min_samples_leaf=26, min_samples_split=12, score=0.739041095890411, total=   0.1s\n",
      "[Parallel(n_jobs=-1)]: Done  35 out of  35 | elapsed:    4.8s remaining:    0.0s\n",
      "[CV] criterion=entropy, max_depth=8, min_samples_leaf=26, min_samples_split=12 \n",
      "[CV]  criterion=entropy, max_depth=8, min_samples_leaf=26, min_samples_split=12, score=0.7465753424657534, total=   0.1s\n",
      "[Parallel(n_jobs=-1)]: Done  36 out of  36 | elapsed:    4.9s remaining:    0.0s\n",
      "[Parallel(n_jobs=-1)]: Done  36 out of  36 | elapsed:    4.9s finished\n"
     ]
    }
   ],
   "source": [
    "gsT1 = gsT1.fit(X_train, y_train)   #train the algorithm to produce the model"
   ]
  },
  {
   "cell_type": "code",
   "execution_count": 46,
   "metadata": {},
   "outputs": [],
   "source": [
    "best_modelT1 = gsT1.best_estimator_\n",
    "y_predT1 = best_modelT1.predict(X_test)\n",
    "from sklearn.metrics import f1_score"
   ]
  },
  {
   "cell_type": "code",
   "execution_count": 47,
   "metadata": {},
   "outputs": [
    {
     "data": {
      "text/plain": [
       "0.8463763184756719"
      ]
     },
     "execution_count": 47,
     "metadata": {},
     "output_type": "execute_result"
    }
   ],
   "source": [
    "f1_score(y_test, y_predT1)  ##make an estimation with the best parameters of the Decisional tree"
   ]
  },
  {
   "cell_type": "code",
   "execution_count": null,
   "metadata": {},
   "outputs": [],
   "source": []
  }
 ],
 "metadata": {
  "kernelspec": {
   "display_name": "Python",
   "language": "python",
   "name": "conda-env-python-py"
  },
  "language_info": {
   "codemirror_mode": {
    "name": "ipython",
    "version": 3
   },
   "file_extension": ".py",
   "mimetype": "text/x-python",
   "name": "python",
   "nbconvert_exporter": "python",
   "pygments_lexer": "ipython3",
   "version": "3.6.11"
  }
 },
 "nbformat": 4,
 "nbformat_minor": 4
}
